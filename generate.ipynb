{
 "cells": [
  {
   "cell_type": "markdown",
   "metadata": {},
   "source": [
    "# Generate CSVs from COVID-19 WHO data"
   ]
  },
  {
   "cell_type": "markdown",
   "metadata": {},
   "source": [
    "## Dependencies"
   ]
  },
  {
   "cell_type": "code",
   "execution_count": 31,
   "metadata": {},
   "outputs": [],
   "source": [
    "import pandas as pd\n",
    "import os\n",
    "from datetime import datetime\n",
    "\n",
    "INPUT_PATH = 'input/'\n",
    "OUTPUT_PATH = 'public/data/'\n",
    "\n",
    "REGIONS_CSV_PATH = os.path.join(INPUT_PATH, 'regions.csv')\n",
    "DEATHS_CSV_PATH = os.path.join(INPUT_PATH, 'deaths.csv')\n",
    "CASES_CSV_PATH = os.path.join(INPUT_PATH, 'cases.csv')"
   ]
  },
  {
   "cell_type": "code",
   "execution_count": 32,
   "metadata": {},
   "outputs": [],
   "source": [
    "!mkdir -p $OUTPUT_PATH"
   ]
  },
  {
   "cell_type": "markdown",
   "metadata": {},
   "source": [
    "## Load the data"
   ]
  },
  {
   "cell_type": "code",
   "execution_count": 33,
   "metadata": {},
   "outputs": [],
   "source": [
    "df_regions = pd.read_csv(REGIONS_CSV_PATH)"
   ]
  },
  {
   "cell_type": "markdown",
   "metadata": {},
   "source": [
    "Transform the \"wide\" format into \"long\" format, which is easier to work with."
   ]
  },
  {
   "cell_type": "code",
   "execution_count": 34,
   "metadata": {},
   "outputs": [],
   "source": [
    "def melt_csv(df, var_name):\n",
    "    return df.melt(\n",
    "        id_vars=df.columns[0], \n",
    "        value_vars=df.columns[1:], \n",
    "        var_name='location', \n",
    "        value_name=var_name\n",
    "    ).dropna()"
   ]
  },
  {
   "cell_type": "code",
   "execution_count": 35,
   "metadata": {},
   "outputs": [],
   "source": [
    "df_deaths = melt_csv(pd.read_csv(DEATHS_CSV_PATH, header=1).rename(columns={ 'Date': 'date' }), 'total_deaths')\n",
    "df_cases = melt_csv(pd.read_csv(CASES_CSV_PATH, header=1).rename(columns={ 'Date': 'date' }), 'total_cases')"
   ]
  },
  {
   "cell_type": "markdown",
   "metadata": {},
   "source": [
    "Convert all numbers from floating point to integers:"
   ]
  },
  {
   "cell_type": "code",
   "execution_count": 36,
   "metadata": {},
   "outputs": [],
   "source": [
    "df_deaths['total_deaths'] = df_deaths['total_deaths'].astype('Int64')\n",
    "df_cases['total_cases'] = df_cases['total_cases'].astype('Int64')"
   ]
  },
  {
   "cell_type": "markdown",
   "metadata": {},
   "source": [
    "## Calculations"
   ]
  },
  {
   "cell_type": "markdown",
   "metadata": {},
   "source": [
    "Join cases & deaths into one dataframe"
   ]
  },
  {
   "cell_type": "code",
   "execution_count": 37,
   "metadata": {},
   "outputs": [],
   "source": [
    "df_merged = df_cases.merge(\n",
    "    df_deaths, \n",
    "    how='outer', \n",
    "    left_on=['date', 'location'], \n",
    "    right_on=['date', 'location']\n",
    ").sort_values(by=['location', 'date'])"
   ]
  },
  {
   "cell_type": "markdown",
   "metadata": {},
   "source": [
    "Standardize names to OWID names"
   ]
  },
  {
   "cell_type": "code",
   "execution_count": 38,
   "metadata": {},
   "outputs": [],
   "source": [
    "df_regions_merged = df_regions.merge(\n",
    "    df_merged[['location']].drop_duplicates(),\n",
    "    how=\"outer\",\n",
    "    left_on=\"WHO Country Name\",\n",
    "    right_on=\"location\"\n",
    ")"
   ]
  },
  {
   "cell_type": "code",
   "execution_count": 41,
   "metadata": {},
   "outputs": [
    {
     "data": {
      "text/html": [
       "<div>\n",
       "<style scoped>\n",
       "    .dataframe tbody tr th:only-of-type {\n",
       "        vertical-align: middle;\n",
       "    }\n",
       "\n",
       "    .dataframe tbody tr th {\n",
       "        vertical-align: top;\n",
       "    }\n",
       "\n",
       "    .dataframe thead th {\n",
       "        text-align: right;\n",
       "    }\n",
       "</style>\n",
       "<table border=\"1\" class=\"dataframe\">\n",
       "  <thead>\n",
       "    <tr style=\"text-align: right;\">\n",
       "      <th></th>\n",
       "      <th>WHO Country Name</th>\n",
       "      <th>WHO Region</th>\n",
       "      <th>OWID Country Name</th>\n",
       "      <th>location</th>\n",
       "    </tr>\n",
       "  </thead>\n",
       "  <tbody>\n",
       "    <tr>\n",
       "      <th>135</th>\n",
       "      <td>NaN</td>\n",
       "      <td>NaN</td>\n",
       "      <td>NaN</td>\n",
       "      <td>Cayman Islands</td>\n",
       "    </tr>\n",
       "  </tbody>\n",
       "</table>\n",
       "</div>"
      ],
      "text/plain": [
       "    WHO Country Name WHO Region OWID Country Name        location\n",
       "135              NaN        NaN               NaN  Cayman Islands"
      ]
     },
     "execution_count": 41,
     "metadata": {},
     "output_type": "execute_result"
    }
   ],
   "source": [
    "df_regions_merged[df_regions_merged['OWID Country Name'].isnull()]"
   ]
  },
  {
   "cell_type": "code",
   "execution_count": 39,
   "metadata": {},
   "outputs": [
    {
     "ename": "AssertionError",
     "evalue": "",
     "output_type": "error",
     "traceback": [
      "\u001b[0;31m---------------------------------------------------------------------------\u001b[0m",
      "\u001b[0;31mAssertionError\u001b[0m                            Traceback (most recent call last)",
      "\u001b[0;32m<ipython-input-39-9b9cad927ade>\u001b[0m in \u001b[0;36m<module>\u001b[0;34m\u001b[0m\n\u001b[0;32m----> 1\u001b[0;31m \u001b[0;32massert\u001b[0m\u001b[0;34m(\u001b[0m\u001b[0mdf_regions_merged\u001b[0m\u001b[0;34m[\u001b[0m\u001b[0;34m'OWID Country Name'\u001b[0m\u001b[0;34m]\u001b[0m\u001b[0;34m.\u001b[0m\u001b[0misnull\u001b[0m\u001b[0;34m(\u001b[0m\u001b[0;34m)\u001b[0m\u001b[0;34m.\u001b[0m\u001b[0many\u001b[0m\u001b[0;34m(\u001b[0m\u001b[0;34m)\u001b[0m \u001b[0;34m==\u001b[0m \u001b[0;32mFalse\u001b[0m\u001b[0;34m)\u001b[0m\u001b[0;34m\u001b[0m\u001b[0;34m\u001b[0m\u001b[0m\n\u001b[0m",
      "\u001b[0;31mAssertionError\u001b[0m: "
     ]
    }
   ],
   "source": [
    "assert(df_regions_merged['OWID Country Name'].isnull().any() == False)"
   ]
  },
  {
   "cell_type": "code",
   "execution_count": 10,
   "metadata": {},
   "outputs": [],
   "source": [
    "who_name_replace_map = { r['WHO Country Name']: r['OWID Country Name'] for r in df_regions_merged.to_dict('records') }"
   ]
  },
  {
   "cell_type": "code",
   "execution_count": 11,
   "metadata": {},
   "outputs": [],
   "source": [
    "df_merged['location'] = df_merged['location'].replace(who_name_replace_map)"
   ]
  },
  {
   "cell_type": "markdown",
   "metadata": {},
   "source": [
    "Calculate daily cases & deaths"
   ]
  },
  {
   "cell_type": "code",
   "execution_count": 12,
   "metadata": {},
   "outputs": [],
   "source": [
    "# Convert to Int64 to handle <NA>\n",
    "df_merged['new_cases'] = df_merged.groupby('location')['total_cases'].diff().astype('Int64')\n",
    "df_merged['new_deaths'] = df_merged.groupby('location')['total_deaths'].diff().astype('Int64')"
   ]
  },
  {
   "cell_type": "markdown",
   "metadata": {},
   "source": [
    "Create a `World` aggregate"
   ]
  },
  {
   "cell_type": "code",
   "execution_count": 13,
   "metadata": {},
   "outputs": [],
   "source": [
    "df_global = df_merged.groupby('date').sum().reset_index()\n",
    "df_global['location'] = 'World'"
   ]
  },
  {
   "cell_type": "code",
   "execution_count": 14,
   "metadata": {},
   "outputs": [],
   "source": [
    "df_merged = pd.concat([df_merged, df_global], sort=True)"
   ]
  },
  {
   "cell_type": "markdown",
   "metadata": {},
   "source": [
    "Calculate days since 100th case"
   ]
  },
  {
   "cell_type": "code",
   "execution_count": 15,
   "metadata": {},
   "outputs": [],
   "source": [
    "THRESHOLD = 100\n",
    "DAYS_SINCE_COL_NAME = 'days_since_%sth_case' % THRESHOLD\n",
    "DAYS_SINCE_COL_NAME_POSITIVE = 'days_since_%sth_case_positive' % THRESHOLD"
   ]
  },
  {
   "cell_type": "code",
   "execution_count": 16,
   "metadata": {},
   "outputs": [],
   "source": [
    "def get_date_of_nth_case(df, nth):\n",
    "    try:\n",
    "        df_gt_nth = df[df['total_cases'] >= nth]\n",
    "        earliest = df.loc[pd.to_datetime(df_gt_nth['date']).idxmin()]\n",
    "        return earliest['date']\n",
    "    except:\n",
    "        return None"
   ]
  },
  {
   "cell_type": "code",
   "execution_count": 17,
   "metadata": {},
   "outputs": [],
   "source": [
    "date_of_nth_case = pd.DataFrame([\n",
    "    (loc, get_date_of_nth_case(df, THRESHOLD)) \n",
    "    for loc, df in df_merged.groupby('location')\n",
    "], columns=['location', 'date_of_nth_case']).dropna()"
   ]
  },
  {
   "cell_type": "code",
   "execution_count": 18,
   "metadata": {},
   "outputs": [],
   "source": [
    "def inject_days_since(df, ref_date):\n",
    "    df = df[['date', 'location']].copy()\n",
    "    df[DAYS_SINCE_COL_NAME] = df['date'].map(lambda date: (pd.to_datetime(date) - pd.to_datetime(ref_date)).days)\n",
    "    return df"
   ]
  },
  {
   "cell_type": "code",
   "execution_count": 19,
   "metadata": {},
   "outputs": [],
   "source": [
    "df_grouped = df_merged.groupby('location')\n",
    "df_days_since_nth_case = pd.concat([\n",
    "    inject_days_since(df_grouped.get_group(row['location']), row['date_of_nth_case']) \n",
    "    for _, row in date_of_nth_case.iterrows()\n",
    "])"
   ]
  },
  {
   "cell_type": "code",
   "execution_count": 20,
   "metadata": {},
   "outputs": [],
   "source": [
    "df_merged = df_merged.merge(\n",
    "    df_days_since_nth_case,\n",
    "    how='outer',\n",
    "    on=['date', 'location'],\n",
    ")\n",
    "df_merged[DAYS_SINCE_COL_NAME] = df_merged[DAYS_SINCE_COL_NAME].astype('Int64')\n",
    "df_merged[DAYS_SINCE_COL_NAME_POSITIVE] = df_merged[DAYS_SINCE_COL_NAME] \\\n",
    "    .map(lambda x: x if (pd.notna(x) and x >= 0) else None).astype('Int64')"
   ]
  },
  {
   "cell_type": "markdown",
   "metadata": {},
   "source": [
    "Calculate doubling rates"
   ]
  },
  {
   "cell_type": "code",
   "execution_count": 21,
   "metadata": {},
   "outputs": [],
   "source": [
    "def get_days_to_double(df, col_name):\n",
    "    try:\n",
    "        # verbose because being very careful not to modify original data with dates\n",
    "        latest = df.loc[pd.to_datetime(df['date']).idxmax()]\n",
    "        df_lt_half = df[df[col_name] <= (latest[col_name] / 2)]\n",
    "        half = df_lt_half.loc[pd.to_datetime(df_lt_half['date']).idxmax()]\n",
    "        return (pd.to_datetime(latest['date']) - pd.to_datetime(half['date'])).days\n",
    "    except:\n",
    "        return None"
   ]
  },
  {
   "cell_type": "code",
   "execution_count": 22,
   "metadata": {},
   "outputs": [],
   "source": [
    "days_to_double_cases = pd.DataFrame([\n",
    "    (loc, get_days_to_double(df, 'total_cases')) \n",
    "    for loc, df in df_merged.groupby('location')\n",
    "], columns=['location', 'days_to_double_cases'])\n",
    "days_to_double_cases['days_to_double_cases'] = days_to_double_cases['days_to_double_cases'].astype('Int64')"
   ]
  },
  {
   "cell_type": "markdown",
   "metadata": {},
   "source": [
    "### Grapher data extract"
   ]
  },
  {
   "cell_type": "code",
   "execution_count": 23,
   "metadata": {},
   "outputs": [],
   "source": [
    "df_grapher = df_merged.copy()\n",
    "df_grapher['date'] = pd.to_datetime(df_grapher['date']).map(lambda date: (date - datetime(2020, 1, 21)).days)\n",
    "df_grapher = df_grapher[['location', 'date', 'new_cases', 'new_deaths', 'total_cases', 'total_deaths', DAYS_SINCE_COL_NAME, DAYS_SINCE_COL_NAME_POSITIVE]] \\\n",
    "    .rename(columns={\n",
    "        'location': 'country',\n",
    "        'date': 'year',\n",
    "        'new_cases': 'Daily new confirmed cases of COVID-19',\n",
    "        'new_deaths': 'Daily new confirmed deaths due to COVID-19',\n",
    "        'total_cases': 'Total confirmed cases of COVID-19', \n",
    "        'total_deaths': 'Total confirmed deaths due to COVID-19',\n",
    "        DAYS_SINCE_COL_NAME: 'Days since the total confirmed cases of COVID-19 reached %s' % THRESHOLD,\n",
    "        DAYS_SINCE_COL_NAME_POSITIVE: 'Days since the total confirmed cases of COVID-19 reached %s (positive only)' % THRESHOLD\n",
    "    })"
   ]
  },
  {
   "cell_type": "markdown",
   "metadata": {},
   "source": [
    "## Inspect the results"
   ]
  },
  {
   "cell_type": "code",
   "execution_count": 24,
   "metadata": {},
   "outputs": [],
   "source": [
    "# df_merged"
   ]
  },
  {
   "cell_type": "code",
   "execution_count": 25,
   "metadata": {},
   "outputs": [],
   "source": [
    "# df_merged[df_merged['location'] == 'World']"
   ]
  },
  {
   "cell_type": "markdown",
   "metadata": {},
   "source": [
    "## Write output files"
   ]
  },
  {
   "cell_type": "code",
   "execution_count": 26,
   "metadata": {},
   "outputs": [],
   "source": [
    "df_merged[['date', 'location', 'new_cases', 'new_deaths', 'total_cases', 'total_deaths']] \\\n",
    "    .to_csv(os.path.join(OUTPUT_PATH, 'full_data.csv'), index=False)"
   ]
  },
  {
   "cell_type": "code",
   "execution_count": 27,
   "metadata": {},
   "outputs": [],
   "source": [
    "for col_name in ['total_cases', 'total_deaths', 'new_cases', 'new_deaths']:\n",
    "    df_pivot = df_merged.pivot(index='date', columns='location', values=col_name)\n",
    "    # move World to first column\n",
    "    cols = df_pivot.columns.tolist()\n",
    "    cols.insert(0, cols.pop(cols.index('World')))\n",
    "    df_pivot[cols].to_csv(os.path.join(OUTPUT_PATH, '%s.csv' % col_name))"
   ]
  },
  {
   "cell_type": "code",
   "execution_count": 28,
   "metadata": {},
   "outputs": [],
   "source": [
    "days_to_double_cases.to_csv(os.path.join(OUTPUT_PATH, 'days_to_double_cases.csv'), index=False)"
   ]
  },
  {
   "cell_type": "code",
   "execution_count": 29,
   "metadata": {},
   "outputs": [],
   "source": [
    "df_regions.to_csv(os.path.join(OUTPUT_PATH, 'regions.csv'), index=False)"
   ]
  },
  {
   "cell_type": "code",
   "execution_count": 30,
   "metadata": {},
   "outputs": [],
   "source": [
    "df_grapher.to_csv(os.path.join(OUTPUT_PATH, 'grapher.csv'), index=False)"
   ]
  },
  {
   "cell_type": "code",
   "execution_count": null,
   "metadata": {},
   "outputs": [],
   "source": []
  }
 ],
 "metadata": {
  "kernelspec": {
   "display_name": "Python 3",
   "language": "python",
   "name": "python3"
  },
  "language_info": {
   "codemirror_mode": {
    "name": "ipython",
    "version": 3
   },
   "file_extension": ".py",
   "mimetype": "text/x-python",
   "name": "python",
   "nbconvert_exporter": "python",
   "pygments_lexer": "ipython3",
   "version": "3.7.6"
  },
  "toc": {
   "base_numbering": 1,
   "nav_menu": {},
   "number_sections": true,
   "sideBar": true,
   "skip_h1_title": true,
   "title_cell": "Table of Contents",
   "title_sidebar": "Contents",
   "toc_cell": false,
   "toc_position": {},
   "toc_section_display": true,
   "toc_window_display": false
  }
 },
 "nbformat": 4,
 "nbformat_minor": 2
}
